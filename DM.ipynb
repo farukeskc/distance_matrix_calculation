{
 "cells": [
  {
   "cell_type": "code",
   "execution_count": 1,
   "metadata": {
    "id": "QUHLSruoP7xn"
   },
   "outputs": [],
   "source": [
    "class Cell:\n",
    "    def __init__(self, x, y, Q, mapping_index):\n",
    "        self.x = x\n",
    "        self.y = y\n",
    "        self.Q = Q\n",
    "        self.mapping_index = mapping_index\n",
    "\n",
    "\n",
    "    def __str__(self):\n",
    "        return f'Cell({self.x}, {self.y}, {self.Q}, {self.mapping_index})'"
   ]
  },
  {
   "cell_type": "code",
   "execution_count": 2,
   "metadata": {
    "id": "sb4O_2tDP9Kl"
   },
   "outputs": [],
   "source": [
    "ALFA = 0.595\n",
    "BETA = 0.31\n",
    "GAMMA = 1.58\n",
    "OMEGA = 5.75\n",
    "\n",
    "# dummies = [1,3,5,6,8,9,11,13,14,16,17,19,21,23,25,27,29,31,33,35,37]\n",
    "\n",
    "# def has_all_dummies_between(cell1: Cell, cell2: Cell):\n",
    "#   for i in range(cell1.x + 1, cell2.x):\n",
    "#     if i not in dummies:\n",
    "#       return False\n",
    "#   return True\n",
    "\n",
    "\n",
    "def vertical_distance_in_same_block(cell1: Cell, cell2: Cell, s: int, path_info: list):\n",
    "    # if cell1.Q == 2 and cell2.Q == 2 and has_all_dummies_between(cell1, cell2):\n",
    "    #   return BETA*abs(cell1.y - cell2.y)\n",
    "\n",
    "    if cell1.x == cell2.x:\n",
    "      path_info.append(0)\n",
    "      return BETA*abs(cell1.y - cell2.y)\n",
    "        \n",
    "    else:\n",
    "      if (cell1.y + cell2.y) <= s:\n",
    "        if 2*s - cell1.y - cell2.y < cell1.y + cell2.y:\n",
    "          path_info.append(1)\n",
    "          return BETA*(2*s - cell1.y - cell2.y);\n",
    "        else:\n",
    "          path_info.append(2)\n",
    "          return BETA*(cell1.y + cell2.y - 2)\n",
    "      else:\n",
    "        path_info.append(1)\n",
    "        return BETA*((s-cell1.y) + (s-cell2.y) + 2) # Yukardan gittiğim garanti?\n",
    "\n",
    "\n",
    "\n",
    "def horizontal_distance(cell1: Cell, cell2: Cell):\n",
    "    return abs(cell1.x - cell2.x)*(2*ALFA + GAMMA)\n",
    "\n",
    "\n",
    "def calculate_distance_in_same_block(cell1: Cell, cell2: Cell, s: int, path_info: list):\n",
    "    return vertical_distance_in_same_block(cell1, cell2, s, path_info) + horizontal_distance(cell1, cell2)"
   ]
  },
  {
   "cell_type": "code",
   "execution_count": 3,
   "metadata": {
    "id": "6WLvAfFM6uw_"
   },
   "outputs": [],
   "source": [
    "import openpyxl\n",
    "import pandas as pd\n",
    "from scipy.spatial import distance_matrix\n",
    "import json\n",
    "\n",
    "# Define variable to load the dataframe\n",
    "dataframe = openpyxl.load_workbook(\"./mezanin_cells_by_floors.xlsx\")\n",
    "\n",
    "# Define variable to read sheet\n",
    "sheets = dataframe.sheetnames"
   ]
  },
  {
   "cell_type": "code",
   "execution_count": 4,
   "metadata": {},
   "outputs": [],
   "source": [
    "sheets = [sheets[0]]"
   ]
  },
  {
   "cell_type": "code",
   "execution_count": 5,
   "metadata": {
    "id": "ctEYktDQ63w6"
   },
   "outputs": [],
   "source": [
    "data_by_floor = []\n",
    "\n",
    "for sheet in sheets:\n",
    "  data = {}\n",
    "  dataframe1 = dataframe[sheet]\n",
    "  cells = []\n",
    "  last_cell = Cell(0,0,0,0)\n",
    "  mapping_index = 0\n",
    "  y = 1\n",
    "  x = 1\n",
    "  Q = 1\n",
    "  mapping_dic = {}\n",
    "\n",
    "  for col_index in range(0, dataframe1.max_column):\n",
    "    mapping_index = mapping_index + 1\n",
    "    cells.append(Cell(x, y, Q, mapping_index))\n",
    "    for row_index in range(0, dataframe1.max_row):\n",
    "\n",
    "      code = dataframe1.cell(row_index + 1, col_index + 1).value\n",
    "\n",
    "      if (row_index - 5) % 10 == 0:\n",
    "        mapping_index = mapping_index + 1\n",
    "        x += 1\n",
    "\n",
    "      if (row_index - 5) % 10 == 0:\n",
    "        new_cell = Cell(x, y, Q, mapping_index)\n",
    "        cells.append(new_cell)\n",
    "\n",
    "      if code is not None:\n",
    "        mapping_dic[code] = mapping_index\n",
    "        #dataframe1.cell(row_index + 1, col_index + 1).value = mapping_index\n",
    "\n",
    "\n",
    "\n",
    "    x = 1\n",
    "    y = y + 1\n",
    "\n",
    "  data['cells'] = cells\n",
    "  data['mapping_dic'] = mapping_dic\n",
    "\n",
    "  data_by_floor.append(data)\n"
   ]
  },
  {
   "cell_type": "code",
   "execution_count": 6,
   "metadata": {},
   "outputs": [
    {
     "data": {
      "text/plain": [
       "3861"
      ]
     },
     "execution_count": 6,
     "metadata": {},
     "output_type": "execute_result"
    }
   ],
   "source": [
    "len(data_by_floor[0]['cells'])"
   ]
  },
  {
   "cell_type": "code",
   "execution_count": 7,
   "metadata": {
    "id": "3yeiKsH3cReN"
   },
   "outputs": [],
   "source": [
    "# with pd.ExcelWriter(\"./cells_with_mapping_index.xlsx\") as writer:\n",
    "\n",
    "#     for sheet_name in sheets:\n",
    "#       df = pd.DataFrame(dataframe[sheet_name].values)\n",
    "#       # use to_excel function and specify the sheet_name and index\n",
    "#       # to store the dataframe in specified sheet\n",
    "#       df.to_excel(writer, sheet_name=sheet_name, index=True)"
   ]
  },
  {
   "cell_type": "code",
   "execution_count": 8,
   "metadata": {
    "id": "L6P4IsB9Anjt"
   },
   "outputs": [],
   "source": [
    "floor_dataframes = []\n",
    "floor_path_df = []\n",
    "\n",
    "for i, floor_data in enumerate(data_by_floor):\n",
    "\n",
    "  with open(f\"{sheets[i]}.json\",'w') as fi:\n",
    "    json.dump(floor_data['mapping_dic'],fi)\n",
    "\n",
    "  cells = floor_data['cells']\n",
    "  distance_data = []\n",
    "  mapping_indexes = []\n",
    "  path_info = []\n",
    "\n",
    "  for i in range(len(cells)):\n",
    "      mapping_indexes.append(cells[i].mapping_index)\n",
    "      tmp_dist_data = []\n",
    "      tmp_path_info = []\n",
    "      for j in range(len(cells)):\n",
    "          if i != j:\n",
    "              tmp_dist_data.append(calculate_distance_in_same_block(cells[i], cells[j], 99, tmp_path_info))\n",
    "          else:\n",
    "              tmp_path_info.append(0)\n",
    "              tmp_dist_data.append(0)\n",
    "      distance_data.append(tmp_dist_data)\n",
    "      path_info.append(tmp_path_info)\n",
    "\n",
    "  df = pd.DataFrame(distance_data, columns=mapping_indexes, index=mapping_indexes)\n",
    "  path_df = pd.DataFrame(path_info, columns=mapping_indexes, index=mapping_indexes)\n",
    "\n",
    "  floor_dataframes.append(df)\n",
    "  floor_path_df.append(path_df)"
   ]
  },
  {
   "cell_type": "code",
   "execution_count": 9,
   "metadata": {},
   "outputs": [
    {
     "data": {
      "text/plain": [
       "59.26"
      ]
     },
     "execution_count": 9,
     "metadata": {},
     "output_type": "execute_result"
    }
   ],
   "source": [
    "floor_dataframes[0][2482][2378]"
   ]
  },
  {
   "cell_type": "code",
   "execution_count": 10,
   "metadata": {
    "id": "DHEcz0jHBN8T"
   },
   "outputs": [],
   "source": [
    "with pd.ExcelWriter(\"./distance_matrix_by_floor.xlsx\") as writer:\n",
    "\n",
    "    for i, df in enumerate(floor_dataframes):\n",
    "      # use to_excel function and specify the sheet_name and index\n",
    "      # to store the dataframe in specified sheet\n",
    "      df.to_excel(writer, sheet_name=sheets[i], index=True)"
   ]
  },
  {
   "cell_type": "code",
   "execution_count": 49,
   "metadata": {
    "id": "SQZzAS9THSwF"
   },
   "outputs": [],
   "source": [
    "# with pd.ExcelWriter(\"./shortest_path_matrix_by_floor.xlsx\") as writer:\n",
    "\n",
    "#     for i, df in enumerate(floor_path_df):\n",
    "#       # use to_excel function and specify the sheet_name and index\n",
    "#       # to store the dataframe in specified sheet\n",
    "#       df.to_excel(writer, sheet_name=sheets[i], index=True)"
   ]
  },
  {
   "cell_type": "code",
   "execution_count": null,
   "metadata": {
    "id": "_9EN8K_2mifF"
   },
   "outputs": [],
   "source": [
    "# distance_data = []\n",
    "# mapping_indexes = []\n",
    "# for i in range(len(cells)):\n",
    "#     mapping_indexes.append(cells[i].mapping_index)\n",
    "#     tmp_dist_data = []\n",
    "#     for j in range(len(cells)):\n",
    "#         if i != j:\n",
    "#             tmp_dist_data.append(calculate_distance_in_same_block(cells[i], cells[j], 99))\n",
    "#         else:\n",
    "#             tmp_dist_data.append(0)\n",
    "#     distance_data.append(tmp_dist_data)\n",
    "#     print(round(i / len(cells) * 100), '%')\n",
    "\n",
    "# df = pd.DataFrame(distance_data, columns=mapping_indexes, index=mapping_indexes)\n",
    "\n",
    "# df.to_excel(\"distance_matrix.xlsx\", index=True)"
   ]
  },
  {
   "cell_type": "code",
   "execution_count": null,
   "metadata": {
    "id": "zF2qonBsPi2P"
   },
   "outputs": [],
   "source": [
    "# print(dataframe1.max_column)\n",
    "# cells = []\n",
    "\n",
    "# last_cell = Cell(0,0,0,0)\n",
    "\n",
    "# mapping_index = 0\n",
    "\n",
    "# y = 1\n",
    "# x = 0\n",
    "# Q = 1\n",
    "\n",
    "# mapping_dic = {}\n",
    "\n",
    "# for col_index in range(0, dataframe1.max_column):\n",
    "#   for row_index in range(0, dataframe1.max_row):\n",
    "\n",
    "#     code = dataframe1.cell(row_index + 1, col_index + 1).value\n",
    "\n",
    "#     if code is None:\n",
    "#       continue\n",
    "\n",
    "#     if row_index % 10 == 0:\n",
    "#       mapping_index = mapping_index + 1\n",
    "#       x += 1\n",
    "#       new_cell = Cell(x, y, Q, mapping_index)\n",
    "#       last_cell = new_cell\n",
    "#       cells.append(last_cell)\n",
    "\n",
    "#     mapping_dic[code] = mapping_index\n",
    "\n",
    "#   if col_index == 100:\n",
    "#     Q = Q + 1\n",
    "#     y = 0\n",
    "\n",
    "#   x = 0\n",
    "#   y = y + 1\n"
   ]
  }
 ],
 "metadata": {
  "colab": {
   "provenance": []
  },
  "kernelspec": {
   "display_name": "Python 3 (ipykernel)",
   "language": "python",
   "name": "python3"
  },
  "language_info": {
   "codemirror_mode": {
    "name": "ipython",
    "version": 3
   },
   "file_extension": ".py",
   "mimetype": "text/x-python",
   "name": "python",
   "nbconvert_exporter": "python",
   "pygments_lexer": "ipython3",
   "version": "3.11.7"
  }
 },
 "nbformat": 4,
 "nbformat_minor": 4
}
